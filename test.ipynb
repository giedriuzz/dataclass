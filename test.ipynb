{
 "cells": [
  {
   "cell_type": "code",
   "execution_count": 25,
   "metadata": {},
   "outputs": [
    {
     "ename": "SyntaxError",
     "evalue": "invalid syntax. Maybe you meant '==' or ':=' instead of '='? (2843975722.py, line 2)",
     "output_type": "error",
     "traceback": [
      "\u001b[0;36m  Cell \u001b[0;32mIn[25], line 2\u001b[0;36m\u001b[0m\n\u001b[0;31m    product = [[product_id=\"1\", name=\"Tranzistorius\", price=0.15, quantity=50],[product_id=\"1\", name=\"Rezistorius\", price=1.15, quantity=50]]\u001b[0m\n\u001b[0m                ^\u001b[0m\n\u001b[0;31mSyntaxError\u001b[0m\u001b[0;31m:\u001b[0m invalid syntax. Maybe you meant '==' or ':=' instead of '='?\n"
     ]
    }
   ],
   "source": [
    "listas = []\n",
    "product = [[product_id=\"1\", name=\"Tranzistorius\", price=0.15, quantity=50],[product_id=\"1\", name=\"Rezistorius\", price=1.15, quantity=50]]\n",
    "\n",
    "def find_highest_total_cost(self, **products: list):\n",
    "        for n in products:\n",
    "            self.product_list.append(n)\n",
    "\n",
    "\n",
    "\n",
    "        \n",
    "\n",
    "\n",
    "\n",
    "\n",
    "# product_3 = [product_id=\"1\", name=\"Kondensatorius\", price=0.75, quantity=50]\n",
    "# product_4 = [product_id=\"1\", name=\"Varistorius\", price=2.15, quantity=50]\n",
    "# product_5 = [product_id=\"1\", name=\"Simistorius\", price=0.85, quantity=50]\n",
    "\n",
    "\n",
    "\n",
    "find_highest_total_cost([product])\n",
    "\n",
    "print(listas)"
   ]
  }
 ],
 "metadata": {
  "kernelspec": {
   "display_name": "Python 3",
   "language": "python",
   "name": "python3"
  },
  "language_info": {
   "codemirror_mode": {
    "name": "ipython",
    "version": 3
   },
   "file_extension": ".py",
   "mimetype": "text/x-python",
   "name": "python",
   "nbconvert_exporter": "python",
   "pygments_lexer": "ipython3",
   "version": "3.10.6"
  },
  "orig_nbformat": 4
 },
 "nbformat": 4,
 "nbformat_minor": 2
}
